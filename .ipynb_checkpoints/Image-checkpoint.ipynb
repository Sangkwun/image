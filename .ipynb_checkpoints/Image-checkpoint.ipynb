{
 "cells": [
  {
   "cell_type": "markdown",
   "metadata": {},
   "source": [
    "# Introduction\n",
    "\n",
    "원하는 컨텐츠를 찾아나가는 접근 방법에는 검색 등의 방법이 있다. 검색은 원하는 키워드를 입력하여 그와 관련된 결과를 확인하는 방식이다. 원하는 컨텐츠가 키워드로 검색이 어려울 경우 만족할만한 결과를 얻기는 어렵다. 이를 이미지 검색을 통해서 대체해보고자 한다.\n"
   ]
  },
  {
   "cell_type": "code",
   "execution_count": 4,
   "metadata": {},
   "outputs": [],
   "source": [
    "import random\n",
    "import numpy\n",
    "from PIL import Image"
   ]
  },
  {
   "cell_type": "code",
   "execution_count": null,
   "metadata": {},
   "outputs": [],
   "source": [
    "img = Image.open(\"/Users/kangsangkwon/Desktop/Images/Caffe_data/가비ᄐ/1.jpg\")\n",
    "img.show()"
   ]
  }
 ],
 "metadata": {
  "kernelspec": {
   "display_name": "image-python3.6",
   "language": "python",
   "name": "image-python3.6"
  },
  "language_info": {
   "codemirror_mode": {
    "name": "ipython",
    "version": 3
   },
   "file_extension": ".py",
   "mimetype": "text/x-python",
   "name": "python",
   "nbconvert_exporter": "python",
   "pygments_lexer": "ipython3",
   "version": "3.6.0"
  }
 },
 "nbformat": 4,
 "nbformat_minor": 2
}
