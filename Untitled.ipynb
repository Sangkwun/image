{
 "cells": [
  {
   "cell_type": "markdown",
   "metadata": {},
   "source": [
    "# Introduction\n",
    "\n",
    "원하는 컨텐츠를 찾아나가는 접근 방법에는 검색 등의 방법이 있다. 검색은 원하는 키워드를 입력하여 그와 관련된 결과를 확인하는 방식이다. 원하는 컨텐츠가 키워드로 검색이 어려울 경우 만족할만한 결과를 얻기는 어렵다. 이를 이미지 검색을 통해서 대체해보고자 한다.\n"
   ]
  },
  {
   "cell_type": "code",
   "execution_count": null,
   "metadata": {},
   "outputs": [],
   "source": [
    "import Image\n",
    "import "
   ]
  }
 ],
 "metadata": {
  "kernelspec": {
   "display_name": "Python 3",
   "language": "python",
   "name": "python3"
  },
  "language_info": {
   "codemirror_mode": {
    "name": "ipython",
    "version": 3
   },
   "file_extension": ".py",
   "mimetype": "text/x-python",
   "name": "python",
   "nbconvert_exporter": "python",
   "pygments_lexer": "ipython3",
   "version": "3.5.4"
  }
 },
 "nbformat": 4,
 "nbformat_minor": 2
}
